{
 "cells": [
  {
   "cell_type": "markdown",
   "metadata": {},
   "source": [
    "#### EngLyser Research\n",
    "##### Pushkar Sheth | http://phsheth.github.io"
   ]
  },
  {
   "cell_type": "code",
   "execution_count": null,
   "metadata": {},
   "outputs": [],
   "source": [
    "import numpy as np\n",
    "from scipy.fftpack import fft, ifft\n",
    "from scipy.signal import butter, lfilter\n",
    "import scipy as sp\n",
    "import matplotlib.pyplot as plt\n",
    "from pylab import *\n",
    "\n",
    "from time import perf_counter\n",
    "import pandas as pd\n",
    "\n",
    "from sklearn.cross_validation import train_test_split\n",
    "\n",
    "from sklearn.ensemble import RandomForestClassifier\n",
    "\n",
    "\n",
    "%matplotlib qt"
   ]
  },
  {
   "cell_type": "code",
   "execution_count": null,
   "metadata": {},
   "outputs": [],
   "source": [
    "def thetagen(cycles,thetastepsize, forwardoffset):\n",
    "    thetasingle = np.array(np.arange(0,720,thetastepsize))\n",
    "    thetarel = np.tile(thetasingle,cycles)\n",
    "    #thetacum = np.cumsum(thetarel)\n",
    "    thetacum = np.array(np.arange(0,(720*cycles),thetastepsize))\n",
    "    #thetacum = thetacum\n",
    "    return thetasingle, thetarel, thetacum"
   ]
  },
  {
   "cell_type": "code",
   "execution_count": null,
   "metadata": {},
   "outputs": [],
   "source": [
    "def gasforcegen(gasforceraw, cycles, thetastepsize,forwardoffset,misfiring):\n",
    "    thetasingle_deg, thetarel_deg, thetacum_deg = thetagen(cycles,thetastepsize,forwardoffset)\n",
    "    gasforcerawdata = pd.read_csv(gasforceraw,sep=',',header=None)\n",
    "    funcakimainterp_gf = sp.interpolate.Akima1DInterpolator(gasforcerawdata[0],gasforcerawdata[1])\n",
    "    gasforce_theta_deg = funcakimainterp_gf(thetasingle_deg)\n",
    "    gasforce_theta_deg_cycles = np.tile(gasforce_theta_deg,cycles)\n",
    "    gasforce_theta_deg_cycles = gasforce_theta_deg_cycles*misfiring\n",
    "    return gasforce_theta_deg_cycles, thetarel_deg,thetacum_deg"
   ]
  },
  {
   "cell_type": "code",
   "execution_count": null,
   "metadata": {},
   "outputs": [],
   "source": [
    "def torquegen(l1_m, l2_m,\n",
    "              mrod, Izz, lg, mp, engine_speed_rpm, rp_m, \n",
    "              gasforcefile, cycles, thetastepsize,forwardoffset,misfiring):\n",
    "    gasforce_theta_deg_cycles, thetarel_deg,thetacum_deg = gasforcegen(gasforcefile, cycles, thetastepsize,forwardoffset,misfiring)\n",
    "    #gasforce_theta_deg_cycles = 35*gasforce_theta_deg_cycles/max(gasforce_theta_deg_cycles)\n",
    "    thetacum_rad = thetacum_deg*np.pi/180\n",
    "    theta_d = engine_speed_rpm*2*np.pi/60\n",
    "    theta_dd = 0\n",
    "    beta = np.arcsin(l1_m*np.sin(thetacum_rad)/l2_m)\n",
    "    con1 = (1-(np.square(l1_m*np.sin(thetacum_rad)/l2_m)))\n",
    "    beta_d = (theta_d*l1_m*np.cos(thetacum_rad))/(l2_m*np.sqrt(con1))\n",
    "    \n",
    "    a_beta_dd = l1_m*((theta_dd*np.cos(thetacum_rad))-((np.square(theta_d))*np.sin(thetacum_rad)))\n",
    "    b_beta_dd = l2_m*np.sqrt(con1)\n",
    "    c_beta_dd = np.square(theta_d)*np.power(l1_m,3)*np.square(np.cos(thetacum_rad))*np.sin(thetacum_rad)\n",
    "    d_beta_dd = np.power(l2_m,3)*con1\n",
    "    beta_dd= (a_beta_dd/b_beta_dd)+(c_beta_dd/d_beta_dd)\n",
    "\n",
    "    a_vpis = (l1_m*theta_d*np.sin(thetacum_rad))\n",
    "    b_vpis = (np.square(l1_m)*theta_d*np.sin(2*thetacum_rad))\n",
    "    c_vpis = 2*l2_m*np.sqrt(con1)\n",
    "    vpis = -a_vpis-(b_vpis/c_vpis)\n",
    "    \n",
    "    a_arx = l1_m*theta_dd*np.sin(thetacum_rad)\n",
    "    b_arx = l1_m*(np.square(theta_d))*np.cos(thetacum_rad)\n",
    "    c_arx = theta_dd*lg*np.square(l1_m)*np.sin(2*thetacum_rad)\n",
    "    d_arx = 2*np.square(l2_m)*np.sqrt(con1)\n",
    "    e_arx = np.square(l2_m)*(2*con1)\n",
    "    f_arx = np.square(theta_d*l1_m)*lg\n",
    "    g_arx = 2*np.cos(2*thetacum_rad)*np.sqrt(con1)\n",
    "    h_arx = np.square(l1_m*np.sin(2*thetacum_rad))\n",
    "    i_arx = 2*np.square(l2_m)*np.sqrt(con1)\n",
    "    arx = -a_arx-b_arx-(c_arx/d_arx)-(1/e_arx)*f_arx*(g_arx+(h_arx/i_arx))\n",
    "    \n",
    "    a_ary = l1_m*theta_dd*np.cos(thetacum_rad)\n",
    "    b_ary = l1_m*np.square(theta_d)*np.sin(thetacum_rad)\n",
    "    c_ary = lg*l1_m*theta_dd*np.cos(thetacum_rad)/l2_m\n",
    "    d_ary = lg*l1_m*theta_d*np.sin(thetacum_rad)/l2_m\n",
    "    ary = a_ary - b_ary - c_ary+d_ary\n",
    "    \n",
    "    a_apx = l1_m*theta_dd*np.sin(thetacum_rad)\n",
    "    b_apx = l1_m*(np.square(theta_d))*np.cos(thetacum_rad)\n",
    "    c_apx = theta_dd*np.square(l1_m)*np.sin(2*thetacum_rad)\n",
    "    d_apx = 2*l2_m*np.sqrt(con1)\n",
    "    e_apx = l2_m*(2*con1)\n",
    "    f_apx = np.square(theta_d*l1_m)\n",
    "    g_apx = 2*np.cos(2*thetacum_rad)*np.sqrt(con1)\n",
    "    h_apx = np.square(l1_m*np.sin(2*thetacum_rad))\n",
    "    i_apx = 2*np.square(l2_m)*np.sqrt(con1)\n",
    "    apx = -a_apx-b_apx-(c_apx/d_apx)-(1/e_apx)*f_apx*(g_apx+(h_apx/i_apx))\n",
    "    \n",
    "    fpx = (mp*apx)+((np.pi)*np.square(rp_m)*gasforce_theta_deg_cycles*0.1*1000000/4)\n",
    "    \n",
    "    fax = mrod*arx+fpx\n",
    "    fay = (1/l2_m)*(((Izz*beta_dd-(fax*lg-fpx*(l2_m-lg)*np.sin(beta)))/np.cos(beta))+mrod*ary*(l2_m-lg))\n",
    "    \n",
    "    fx = fax*np.cos(thetacum_rad)+fay*np.sin(thetacum_rad)\n",
    "    fy = fay*np.cos(thetacum_rad)-fax*np.sin(thetacum_rad)\n",
    "    #forwardoffset = forwardoffset*np.pi/180\n",
    "    #thetacum_rad = thetacum_rad\n",
    "    rpm2radpersec = 6*sp.pi/180\n",
    "    omega1_radpsec = engine_speed_rpm*rpm2radpersec\n",
    "    time = thetacum_rad/omega1_radpsec\n",
    "    torque = -fy*l1_m*1000\n",
    "    forwardoffset_rad = forwardoffset*np.pi/180\n",
    "    time_offset = forwardoffset_rad/omega1_radpsec\n",
    "    offsetindex = (np.where(time == time_offset))\n",
    "    torque = np.roll(torque,offsetindex[0][0])\n",
    "    return torque, time, thetacum_deg"
   ]
  },
  {
   "cell_type": "code",
   "execution_count": null,
   "metadata": {},
   "outputs": [],
   "source": [
    "## Generalized Torque Generation Function\n",
    "def torquegen_cyl(stepsize, cyl1mf, cyl5mf, cyl4mf, cyl8mf, cyl6mf, cyl3mf, cyl7mf, cyl2mf):\n",
    "    torque_cyl1, time_cyl1, theta_cyl1 = torquegen(float(60/1000), float(140/1000), \n",
    "                                                   float(0.6833038489), float( 1e-9), float(40/1000), float(0.3282204182), float(2000), float(0.080), \n",
    "                                                   'gaspressures.dat', 1, stepsize,0,cyl1mf)\n",
    "    torque_cyl5, time_cyl5, theta_cyl5 = torquegen(float(60/1000), float(140/1000), \n",
    "                                                   float(0.6833038489), float( 1e-9), float(40/1000), float(0.3282204182), float(2000), float(0.080), \n",
    "                                                   'gaspressures.dat', 1, stepsize,90,cyl5mf)\n",
    "    torque_cyl4, time_cyl4, theta_cyl4 = torquegen(float(60/1000), float(140/1000), \n",
    "                                                   float(0.6833038489), float( 1e-9), float(40/1000), float(0.3282204182), float(2000), float(0.080), \n",
    "                                                   'gaspressures.dat', 1, stepsize,180,cyl4mf)\n",
    "    torque_cyl8, time_cyl8, theta_cyl8 = torquegen(float(60/1000), float(140/1000), \n",
    "                                                   float(0.6833038489), float( 1e-9), float(40/1000), float(0.3282204182), float(2000), float(0.080), \n",
    "                                                   'gaspressures.dat', 1, stepsize,270,cyl8mf)\n",
    "    torque_cyl6, time_cyl6, theta_cyl6 = torquegen(float(60/1000), float(140/1000), \n",
    "                                                   float(0.6833038489), float( 1e-9), float(40/1000), float(0.3282204182), float(2000), float(0.080), \n",
    "                                                   'gaspressures.dat', 1, stepsize,360,cyl6mf)\n",
    "    torque_cyl3, time_cyl3, theta_cyl3 = torquegen(float(60/1000), float(140/1000), \n",
    "                                                   float(0.6833038489), float( 1e-9), float(40/1000), float(0.3282204182), float(2000), float(0.080), \n",
    "                                                   'gaspressures.dat', 1, stepsize,450,cyl3mf)\n",
    "    torque_cyl7, time_cyl7, theta_cyl7 = torquegen(float(60/1000), float(140/1000), \n",
    "                                                   float(0.6833038489), float( 1e-9), float(40/1000), float(0.3282204182), float(2000), float(0.080), \n",
    "                                                   'gaspressures.dat', 1, stepsize,540,cyl7mf)\n",
    "    torque_cyl2, time_cyl2, theta_cyl2 = torquegen(float(60/1000), float(140/1000), \n",
    "                                                   float(0.6833038489), float( 1e-9), float(40/1000), float(0.3282204182), float(2000), float(0.080), \n",
    "                                                   'gaspressures.dat', 1, stepsize,630,cyl2mf)\n",
    "    torque_cyl1 = torque_cyl1 + np.random.normal(0,np.abs(((np.mean(torque_cyl1))*0.01)),len(torque_cyl1))\n",
    "    torque_cyl5 = torque_cyl5 + np.random.normal(0,np.abs(((np.mean(torque_cyl5))*0.01)),len(torque_cyl5))\n",
    "    torque_cyl4 = torque_cyl4 + np.random.normal(0,np.abs(((np.mean(torque_cyl4))*0.01)),len(torque_cyl4))\n",
    "    torque_cyl8 = torque_cyl8 + np.random.normal(0,np.abs(((np.mean(torque_cyl8))*0.01)),len(torque_cyl8))\n",
    "    torque_cyl6 = torque_cyl6 + np.random.normal(0,np.abs(((np.mean(torque_cyl6))*0.01)),len(torque_cyl6))\n",
    "    torque_cyl3 = torque_cyl3 + np.random.normal(0,np.abs(((np.mean(torque_cyl3))*0.01)),len(torque_cyl3))\n",
    "    torque_cyl7 = torque_cyl7 + np.random.normal(0,np.abs(((np.mean(torque_cyl7))*0.01)),len(torque_cyl7))\n",
    "    torque_cyl2 = torque_cyl2 + np.random.normal(0,np.abs(((np.mean(torque_cyl2))*0.01)),len(torque_cyl2))\n",
    "    \n",
    "    torque_cyl = torque_cyl1 + torque_cyl5 + torque_cyl4 + torque_cyl8 + torque_cyl6 + torque_cyl3 + torque_cyl7 + torque_cyl2\n",
    "    return torque_cyl\n",
    "\n",
    "## Generate Misfiring Truth Table\n",
    "def truthtablegen_cyl(cyl1mf, cyl5mf, cyl4mf, cyl8mf, cyl6mf, cyl3mf, cyl7mf, cyl2mf):\n",
    "    if cyl1mf == 1:\n",
    "        cyl1mf = 0\n",
    "    elif cyl1mf < 1:\n",
    "        cyl1mf = 1\n",
    "        \n",
    "    if cyl5mf == 1:\n",
    "        cyl5mf = 0\n",
    "    elif cyl5mf < 1:\n",
    "        cyl5mf = 1\n",
    "        \n",
    "    if cyl4mf == 1:\n",
    "        cyl4mf = 0\n",
    "    elif cyl4mf < 1:\n",
    "        cyl4mf = 1\n",
    "        \n",
    "    if cyl8mf == 1:\n",
    "        cyl8mf = 0\n",
    "    elif cyl8mf < 1:\n",
    "        cyl8mf = 1\n",
    "        \n",
    "    if cyl6mf == 1:\n",
    "        cyl6mf = 0\n",
    "    elif cyl6mf < 1:\n",
    "        cyl6mf = 1\n",
    "\n",
    "    if cyl3mf == 1:\n",
    "        cyl3mf = 0\n",
    "    elif cyl3mf < 1:\n",
    "        cyl3mf = 1\n",
    "\n",
    "    if cyl7mf == 1:\n",
    "        cyl7mf = 0\n",
    "    elif cyl7mf < 1:\n",
    "        cyl7mf = 1\n",
    "\n",
    "    if cyl2mf == 1:\n",
    "        cyl2mf = 0\n",
    "    elif cyl2mf < 1:\n",
    "        cyl2mf = 1\n",
    "        \n",
    "    truthtabletemp = np.array([cyl1mf, cyl5mf, cyl4mf, cyl8mf, cyl6mf, cyl3mf, cyl7mf, cyl2mf])\n",
    "    return truthtabletemp"
   ]
  },
  {
   "cell_type": "code",
   "execution_count": null,
   "metadata": {},
   "outputs": [],
   "source": [
    "# cyl1mf, cyl5mf, cyl4mf, cyl8mf, cyl6mf, cyl3mf, cyl7mf, cyl2mf\n",
    "\n",
    "nomcyl_torque = [torquegen_cyl(10,1,1,1,1,1,1,1,1) for _ in range(720)]\n",
    "nomcyl_tt = [truthtablegen_cyl(1,1,1,1,1,1,1,1) for _ in range(720)]\n",
    "\n",
    "cyl1mf_torque = [torquegen_cyl(10,0.1,1,1,1,1,1,1,1) for _ in range(720)]\n",
    "cyl1mf_tt = [truthtablegen_cyl(0.1,1,1,1,1,1,1,1) for _ in range(720)]\n",
    "\n",
    "cyl5mf_torque = [torquegen_cyl(10,1,0.1,1,1,1,1,1,1) for _ in range(720)]\n",
    "cyl5mf_tt = [truthtablegen_cyl(1,0.1,1,1,1,1,1,1) for _ in range(720)]\n",
    "\n",
    "cyl4mf_torque = [torquegen_cyl(10,1,1,0.1,1,1,1,1,1) for _ in range(720)]\n",
    "cyl4mf_tt = [truthtablegen_cyl(1,1,0.1,1,1,1,1,1) for _ in range(720)]\n",
    "\n",
    "cyl8mf_torque = [torquegen_cyl(10,1,1,1,0.1,1,1,1,1) for _ in range(720)]\n",
    "cyl8mf_tt = [truthtablegen_cyl(1,1,1,0.1,1,1,1,1) for _ in range(720)]\n",
    "\n",
    "cyl6mf_torque = [torquegen_cyl(10,1,1,1,1,0.1,1,1,1) for _ in range(720)]\n",
    "cyl6mf_tt = [truthtablegen_cyl(1,1,1,1,0.1,1,1,1) for _ in range(720)]\n",
    "\n",
    "cyl3mf_torque = [torquegen_cyl(10,1,1,1,1,1,0.1,1,1) for _ in range(720)]\n",
    "cyl3mf_tt = [truthtablegen_cyl(1,1,1,1,1,0.1,1,1) for _ in range(720)]\n",
    "\n",
    "cyl7mf_torque = [torquegen_cyl(10,1,1,1,1,1,1,0.1,1) for _ in range(720)]\n",
    "cyl7mf_tt = [truthtablegen_cyl(1,1,1,1,1,1,0.1,1) for _ in range(720)]\n",
    "\n",
    "cyl2mf_torque = [torquegen_cyl(10,1,1,1,1,1,1,1,0.1) for _ in range(720)]\n",
    "cyl2mf_tt = [truthtablegen_cyl(1,1,1,1,1,1,1,0.1) for _ in range(720)]\n",
    "\n",
    "cyl1234mf_torque = [torquegen_cyl(10,0.1,1,0.1,1,1,0.1,1,0.1) for _ in range(720)]\n",
    "cyl1234mf_tt = [truthtablegen_cyl(0.1,1,0.1,1,1,0.1,1,0.1) for _ in range(720)]\n",
    "\n",
    "cyl5678mf_torque = [torquegen_cyl(10,1,0.1,1,0.1,0.1,1,0.1,1) for _ in range(720)]\n",
    "cyl5678mf_tt = [truthtablegen_cyl(1,0.1,1,0.1,0.1,1,0.1,1) for _ in range(720)]"
   ]
  },
  {
   "cell_type": "code",
   "execution_count": null,
   "metadata": {},
   "outputs": [],
   "source": []
  },
  {
   "cell_type": "code",
   "execution_count": null,
   "metadata": {},
   "outputs": [],
   "source": [
    "x = np.block([np.transpose(nomcyl_torque), \n",
    "             np.transpose(cyl1mf_torque), \n",
    "             np.transpose(cyl5mf_torque), \n",
    "             np.transpose(cyl4mf_torque), \n",
    "             np.transpose(cyl8mf_torque), \n",
    "             np.transpose(cyl6mf_torque), \n",
    "             np.transpose(cyl3mf_torque), \n",
    "             np.transpose(cyl7mf_torque), \n",
    "             np.transpose(cyl2mf_torque),\n",
    "             np.transpose(cyl1234mf_torque),\n",
    "             np.transpose(cyl5678mf_torque)])\n",
    "y = np.block([np.transpose(nomcyl_tt), \n",
    "             np.transpose(cyl1mf_tt), \n",
    "             np.transpose(cyl5mf_tt), \n",
    "             np.transpose(cyl4mf_tt), \n",
    "             np.transpose(cyl8mf_tt), \n",
    "             np.transpose(cyl6mf_tt), \n",
    "             np.transpose(cyl3mf_tt), \n",
    "             np.transpose(cyl7mf_tt), \n",
    "             np.transpose(cyl2mf_tt),\n",
    "             np.transpose(cyl1234mf_tt),\n",
    "             np.transpose(cyl5678mf_tt)])"
   ]
  },
  {
   "cell_type": "code",
   "execution_count": null,
   "metadata": {},
   "outputs": [],
   "source": [
    "np.shape(x),np.shape(y)"
   ]
  },
  {
   "cell_type": "code",
   "execution_count": null,
   "metadata": {},
   "outputs": [],
   "source": [
    "plt.plot((nomcyl_torque)[0], label = \"nomcyl_torque\")\n",
    "plt.plot((cyl1mf_torque)[0], label = \"cyl1mf_torque\")\n",
    "plt.plot((cyl5mf_torque)[0], label = \"cyl5mf_torque\")\n",
    "plt.plot((cyl4mf_torque)[0], label = \"cyl4mf_torque\")\n",
    "plt.plot((cyl8mf_torque)[0], label = \"cyl8mf_torque\")\n",
    "plt.plot((cyl6mf_torque)[0], label = \"cyl6mf_torque\")\n",
    "plt.plot((cyl3mf_torque)[0], label = \"cyl3mf_torque\")\n",
    "plt.plot((cyl7mf_torque)[0], label = \"cyl7mf_torque\")\n",
    "plt.plot((cyl2mf_torque)[0], label = \"cyl2mf_torque\")\n",
    "plt.plot((nomcyl_torque)[200], label = \"nomcyl_torque\")\n",
    "plt.plot((cyl1mf_torque)[200], label = \"cyl1mf_torque\")\n",
    "plt.plot((cyl5mf_torque)[200], label = \"cyl5mf_torque\")\n",
    "plt.plot((cyl4mf_torque)[200], label = \"cyl4mf_torque\")\n",
    "plt.plot((cyl8mf_torque)[200], label = \"cyl8mf_torque\")\n",
    "plt.plot((cyl6mf_torque)[200], label = \"cyl6mf_torque\")\n",
    "plt.plot((cyl3mf_torque)[200], label = \"cyl3mf_torque\")\n",
    "plt.plot((cyl7mf_torque)[200], label = \"cyl7mf_torque\")\n",
    "plt.plot((cyl2mf_torque)[200], label = \"cyl2mf_torque\")\n",
    "plt.legend(loc='upper center', bbox_to_anchor=(1.2, 1.05), ncol=1)\n",
    "plt.show()\n"
   ]
  },
  {
   "cell_type": "code",
   "execution_count": null,
   "metadata": {},
   "outputs": [],
   "source": [
    "v8_df = pd.DataFrame(np.transpose(x))\n",
    "v8_tt_df = pd.DataFrame(np.transpose(y))\n",
    "v8_df"
   ]
  },
  {
   "cell_type": "code",
   "execution_count": null,
   "metadata": {},
   "outputs": [],
   "source": [
    "v8_tt_df"
   ]
  },
  {
   "cell_type": "code",
   "execution_count": null,
   "metadata": {},
   "outputs": [],
   "source": []
  },
  {
   "cell_type": "code",
   "execution_count": null,
   "metadata": {},
   "outputs": [],
   "source": [
    "x_train, x_test, y_train, y_test = train_test_split(v8_df,v8_tt_df, test_size = 0.3, random_state=0)"
   ]
  },
  {
   "cell_type": "code",
   "execution_count": null,
   "metadata": {},
   "outputs": [],
   "source": [
    "np.shape(x_train), np.shape(y_train)"
   ]
  },
  {
   "cell_type": "code",
   "execution_count": null,
   "metadata": {},
   "outputs": [],
   "source": [
    "np.shape(x_test), np.shape(y_test )"
   ]
  },
  {
   "cell_type": "code",
   "execution_count": null,
   "metadata": {},
   "outputs": [],
   "source": [
    "classifier = RandomForestClassifier(n_jobs=2, random_state = 0 )\n",
    "classifier.fit(x_train, y_train)"
   ]
  },
  {
   "cell_type": "code",
   "execution_count": null,
   "metadata": {},
   "outputs": [],
   "source": [
    "y_pred = classifier.predict(x_test)"
   ]
  },
  {
   "cell_type": "code",
   "execution_count": null,
   "metadata": {},
   "outputs": [],
   "source": [
    "y_pred = pd.DataFrame(y_pred)\n",
    "y_pred"
   ]
  },
  {
   "cell_type": "code",
   "execution_count": null,
   "metadata": {},
   "outputs": [],
   "source": [
    "y_test"
   ]
  },
  {
   "cell_type": "code",
   "execution_count": null,
   "metadata": {},
   "outputs": [],
   "source": [
    "y_pred.to_csv('y_pred.csv')\n",
    "y_test.to_csv('y_test.csv')"
   ]
  },
  {
   "cell_type": "code",
   "execution_count": null,
   "metadata": {},
   "outputs": [],
   "source": []
  }
 ],
 "metadata": {
  "kernelspec": {
   "display_name": "Python 3",
   "language": "python",
   "name": "python3"
  },
  "language_info": {
   "codemirror_mode": {
    "name": "ipython",
    "version": 3
   },
   "file_extension": ".py",
   "mimetype": "text/x-python",
   "name": "python",
   "nbconvert_exporter": "python",
   "pygments_lexer": "ipython3",
   "version": "3.6.4"
  }
 },
 "nbformat": 4,
 "nbformat_minor": 2
}
