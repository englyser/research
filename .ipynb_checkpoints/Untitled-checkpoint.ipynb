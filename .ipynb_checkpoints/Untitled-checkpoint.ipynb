{
 "cells": [
  {
   "cell_type": "code",
   "execution_count": 3,
   "metadata": {},
   "outputs": [],
   "source": [
    "import numpy as np\n",
    "import matplotlib.pyplot as plt"
   ]
  },
  {
   "cell_type": "code",
   "execution_count": 30,
   "metadata": {},
   "outputs": [],
   "source": [
    "noise = np.random.normal(0,500,10000)\n",
    "time = np.array(np.arange(0,100,0.01))"
   ]
  },
  {
   "cell_type": "code",
   "execution_count": 31,
   "metadata": {},
   "outputs": [
    {
     "data": {
      "text/plain": [
       "array([0.000e+00, 1.000e-02, 2.000e-02, ..., 9.997e+01, 9.998e+01,\n",
       "       9.999e+01])"
      ]
     },
     "execution_count": 31,
     "metadata": {},
     "output_type": "execute_result"
    }
   ],
   "source": [
    "time"
   ]
  },
  {
   "cell_type": "code",
   "execution_count": 32,
   "metadata": {},
   "outputs": [
    {
     "data": {
      "text/plain": [
       "(10000, 10000)"
      ]
     },
     "execution_count": 32,
     "metadata": {},
     "output_type": "execute_result"
    }
   ],
   "source": [
    "len(noise),len(time)"
   ]
  },
  {
   "cell_type": "code",
   "execution_count": 26,
   "metadata": {},
   "outputs": [],
   "source": [
    "plt.plot(time, noise)\n",
    "plt.show()"
   ]
  },
  {
   "cell_type": "code",
   "execution_count": 11,
   "metadata": {},
   "outputs": [],
   "source": [
    "import numpy as np\n",
    "from scipy.fftpack import fft, ifft\n",
    "from scipy.signal import butter, lfilter\n",
    "import scipy as sp\n",
    "import matplotlib.pyplot as plt\n",
    "from pylab import *\n",
    "\n",
    "from time import perf_counter\n",
    "import pandas as pd\n",
    "\n",
    "%matplotlib qt"
   ]
  },
  {
   "cell_type": "code",
   "execution_count": 12,
   "metadata": {},
   "outputs": [],
   "source": [
    "#Vectorised Code\n",
    "def eval_freqfft_vect(time_sec, vibr):\n",
    "    datalength_fft = len(time_sec)\n",
    "    datalengthby2 = int(datalength_fft/2)\n",
    "    timeavgcalc = np.array([], dtype = float64)\n",
    "    time_sec_i = time_sec[1:]\n",
    "    time_sec_i_1 = time_sec[:-1]\n",
    "    timeavgcalc = time_sec_i - time_sec_i_1\n",
    "    sigint_avg = np.mean(timeavgcalc)\n",
    "    siginf = 1/(datalength_fft*sigint_avg)\n",
    "    freqhztemp = np.arange(0,datalength_fft,dtype = float64)\n",
    "    freqhz = freqhztemp*siginf\n",
    "    freqhz = freqhz[0:datalengthby2]\n",
    "    vibr_fft = np.abs(fft(vibr,axis = -1))\n",
    "    vibr_fft = ((vibr_fft[0:datalengthby2])/datalength_fft)*2\n",
    "    return freqhz,vibr_fft"
   ]
  },
  {
   "cell_type": "code",
   "execution_count": 34,
   "metadata": {},
   "outputs": [],
   "source": [
    "ffreq,vibrfft = eval_freqfft_vect(time, noise)"
   ]
  },
  {
   "cell_type": "code",
   "execution_count": 36,
   "metadata": {},
   "outputs": [],
   "source": [
    "plt.plot(ffreq,vibrfft)\n",
    "plt.show()"
   ]
  },
  {
   "cell_type": "code",
   "execution_count": 37,
   "metadata": {},
   "outputs": [],
   "source": [
    "plt.plot(time, noise)\n",
    "plt.show()"
   ]
  },
  {
   "cell_type": "code",
   "execution_count": null,
   "metadata": {},
   "outputs": [],
   "source": []
  }
 ],
 "metadata": {
  "kernelspec": {
   "display_name": "Python 3",
   "language": "python",
   "name": "python3"
  },
  "language_info": {
   "codemirror_mode": {
    "name": "ipython",
    "version": 3
   },
   "file_extension": ".py",
   "mimetype": "text/x-python",
   "name": "python",
   "nbconvert_exporter": "python",
   "pygments_lexer": "ipython3",
   "version": "3.6.4"
  }
 },
 "nbformat": 4,
 "nbformat_minor": 2
}
