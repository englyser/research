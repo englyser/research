{
 "cells": [
  {
   "cell_type": "code",
   "execution_count": null,
   "metadata": {},
   "outputs": [],
   "source": [
    "import numpy as np\n",
    "from scipy.fftpack import fft, ifft\n",
    "from scipy.signal import butter, lfilter\n",
    "import scipy as sp\n",
    "import matplotlib.pyplot as plt\n",
    "from pylab import *\n",
    "\n",
    "from time import perf_counter\n",
    "import pandas as pd\n",
    "\n",
    "%matplotlib qt"
   ]
  },
  {
   "cell_type": "code",
   "execution_count": null,
   "metadata": {},
   "outputs": [],
   "source": [
    "def thetagen(cycles,thetastepsize, forwardoffset):\n",
    "    thetasingle = np.array(np.arange(0,720,thetastepsize))\n",
    "    thetarel = np.tile(thetasingle,cycles)\n",
    "    #thetacum = np.cumsum(thetarel)\n",
    "    thetacum = np.array(np.arange(0,(720*cycles),thetastepsize))\n",
    "    #thetacum = thetacum\n",
    "    return thetasingle, thetarel, thetacum"
   ]
  },
  {
   "cell_type": "code",
   "execution_count": null,
   "metadata": {},
   "outputs": [],
   "source": [
    "def gasforcegen(gasforceraw, cycles, thetastepsize,forwardoffset,misfiring):\n",
    "    thetasingle_deg, thetarel_deg, thetacum_deg = thetagen(cycles,thetastepsize,forwardoffset)\n",
    "    gasforcerawdata = pd.read_csv(gasforceraw,sep=',',header=None)\n",
    "    funcakimainterp_gf = sp.interpolate.Akima1DInterpolator(gasforcerawdata[0],gasforcerawdata[1])\n",
    "    gasforce_theta_deg = funcakimainterp_gf(thetasingle_deg)\n",
    "    gasforce_theta_deg_cycles = np.tile(gasforce_theta_deg,cycles)\n",
    "    gasforce_theta_deg_cycles = gasforce_theta_deg_cycles*misfiring\n",
    "    return gasforce_theta_deg_cycles, thetarel_deg,thetacum_deg"
   ]
  },
  {
   "cell_type": "code",
   "execution_count": null,
   "metadata": {},
   "outputs": [],
   "source": [
    "def torquegen(l1_m, l2_m,\n",
    "              mrod, Izz, lg, mp, engine_speed_rpm, rp_m, \n",
    "              gasforcefile, cycles, thetastepsize,forwardoffset,misfiring):\n",
    "    gasforce_theta_deg_cycles, thetarel_deg,thetacum_deg = gasforcegen(gasforcefile, cycles, thetastepsize,forwardoffset,misfiring)\n",
    "    #gasforce_theta_deg_cycles = 35*gasforce_theta_deg_cycles/max(gasforce_theta_deg_cycles)\n",
    "    thetacum_rad = thetacum_deg*np.pi/180\n",
    "    theta_d = engine_speed_rpm*2*np.pi/60\n",
    "    theta_dd = 0\n",
    "    beta = np.arcsin(l1_m*np.sin(thetacum_rad)/l2_m)\n",
    "    con1 = (1-(np.square(l1_m*np.sin(thetacum_rad)/l2_m)))\n",
    "    beta_d = (theta_d*l1_m*np.cos(thetacum_rad))/(l2_m*np.sqrt(con1))\n",
    "    \n",
    "    a_beta_dd = l1_m*((theta_dd*np.cos(thetacum_rad))-((np.square(theta_d))*np.sin(thetacum_rad)))\n",
    "    b_beta_dd = l2_m*np.sqrt(con1)\n",
    "    c_beta_dd = np.square(theta_d)*np.power(l1_m,3)*np.square(np.cos(thetacum_rad))*np.sin(thetacum_rad)\n",
    "    d_beta_dd = np.power(l2_m,3)*con1\n",
    "    beta_dd= (a_beta_dd/b_beta_dd)+(c_beta_dd/d_beta_dd)\n",
    "\n",
    "    a_vpis = (l1_m*theta_d*np.sin(thetacum_rad))\n",
    "    b_vpis = (np.square(l1_m)*theta_d*np.sin(2*thetacum_rad))\n",
    "    c_vpis = 2*l2_m*np.sqrt(con1)\n",
    "    vpis = -a_vpis-(b_vpis/c_vpis)\n",
    "    \n",
    "    a_arx = l1_m*theta_dd*np.sin(thetacum_rad)\n",
    "    b_arx = l1_m*(np.square(theta_d))*np.cos(thetacum_rad)\n",
    "    c_arx = theta_dd*lg*np.square(l1_m)*np.sin(2*thetacum_rad)\n",
    "    d_arx = 2*np.square(l2_m)*np.sqrt(con1)\n",
    "    e_arx = np.square(l2_m)*(2*con1)\n",
    "    f_arx = np.square(theta_d*l1_m)*lg\n",
    "    g_arx = 2*np.cos(2*thetacum_rad)*np.sqrt(con1)\n",
    "    h_arx = np.square(l1_m*np.sin(2*thetacum_rad))\n",
    "    i_arx = 2*np.square(l2_m)*np.sqrt(con1)\n",
    "    arx = -a_arx-b_arx-(c_arx/d_arx)-(1/e_arx)*f_arx*(g_arx+(h_arx/i_arx))\n",
    "    \n",
    "    a_ary = l1_m*theta_dd*np.cos(thetacum_rad)\n",
    "    b_ary = l1_m*np.square(theta_d)*np.sin(thetacum_rad)\n",
    "    c_ary = lg*l1_m*theta_dd*np.cos(thetacum_rad)/l2_m\n",
    "    d_ary = lg*l1_m*theta_d*np.sin(thetacum_rad)/l2_m\n",
    "    ary = a_ary - b_ary - c_ary+d_ary\n",
    "    \n",
    "    a_apx = l1_m*theta_dd*np.sin(thetacum_rad)\n",
    "    b_apx = l1_m*(np.square(theta_d))*np.cos(thetacum_rad)\n",
    "    c_apx = theta_dd*np.square(l1_m)*np.sin(2*thetacum_rad)\n",
    "    d_apx = 2*l2_m*np.sqrt(con1)\n",
    "    e_apx = l2_m*(2*con1)\n",
    "    f_apx = np.square(theta_d*l1_m)\n",
    "    g_apx = 2*np.cos(2*thetacum_rad)*np.sqrt(con1)\n",
    "    h_apx = np.square(l1_m*np.sin(2*thetacum_rad))\n",
    "    i_apx = 2*np.square(l2_m)*np.sqrt(con1)\n",
    "    apx = -a_apx-b_apx-(c_apx/d_apx)-(1/e_apx)*f_apx*(g_apx+(h_apx/i_apx))\n",
    "    \n",
    "    fpx = (mp*apx)+((np.pi)*np.square(rp_m)*gasforce_theta_deg_cycles*0.1*1000000/4)\n",
    "    \n",
    "    fax = mrod*arx+fpx\n",
    "    fay = (1/l2_m)*(((Izz*beta_dd-(fax*lg-fpx*(l2_m-lg)*np.sin(beta)))/np.cos(beta))+mrod*ary*(l2_m-lg))\n",
    "    \n",
    "    fx = fax*np.cos(thetacum_rad)+fay*np.sin(thetacum_rad)\n",
    "    fy = fay*np.cos(thetacum_rad)-fax*np.sin(thetacum_rad)\n",
    "    #forwardoffset = forwardoffset*np.pi/180\n",
    "    #thetacum_rad = thetacum_rad\n",
    "    rpm2radpersec = 6*sp.pi/180\n",
    "    omega1_radpsec = engine_speed_rpm*rpm2radpersec\n",
    "    time = thetacum_rad/omega1_radpsec\n",
    "    torque = -fy*l1_m*1000/2\n",
    "    forwardoffset_rad = forwardoffset*np.pi/180\n",
    "    time_offset = forwardoffset_rad/omega1_radpsec\n",
    "    offsetindex = (np.where(time == time_offset))\n",
    "    torque = np.roll(torque,offsetindex[0][0])\n",
    "    return torque, time"
   ]
  },
  {
   "cell_type": "code",
   "execution_count": null,
   "metadata": {},
   "outputs": [],
   "source": [
    "fy_1, time_1 = torquegen(float(60/1000), float(140/1000),\n",
    "                 float(0.6833038489), float( 1e-9), float(40/1000), float(0.3282204182), float(3000), float(0.080),\n",
    "                 'gaspressures.dat', 20, 0.1,0,1)\n",
    "fy_5, time_5 = torquegen(float(60/1000), float(140/1000),\n",
    "                 float(0.6833038489), float( 1e-9), float(40/1000), float(0.3282204182), float(3000), float(0.080),\n",
    "                 'gaspressures.dat', 20, 0.1,90,1)\n",
    "fy_4, time_4 = torquegen(float(60/1000), float(140/1000),\n",
    "                 float(0.6833038489), float( 1e-9), float(40/1000), float(0.3282204182), float(3000), float(0.080),\n",
    "                 'gaspressures.dat', 20, 0.1,180,1)\n",
    "fy_8, time_8 = torquegen(float(60/1000), float(140/1000),\n",
    "                 float(0.6833038489), float( 1e-9), float(40/1000), float(0.3282204182), float(3000), float(0.080),\n",
    "                 'gaspressures.dat', 20, 0.1,270,1)\n",
    "fy_6, time_6 = torquegen(float(60/1000), float(140/1000),\n",
    "                 float(0.6833038489), float( 1e-9), float(40/1000), float(0.3282204182), float(3000), float(0.080),\n",
    "                 'gaspressures.dat', 20, 0.1,360,1)\n",
    "fy_3, time_3 = torquegen(float(60/1000), float(140/1000),\n",
    "                 float(0.6833038489), float( 1e-9), float(40/1000), float(0.3282204182), float(3000), float(0.080),\n",
    "                 'gaspressures.dat', 20, 0.1,450,1)\n",
    "fy_7, time_7 = torquegen(float(60/1000), float(140/1000),\n",
    "                 float(0.6833038489), float( 1e-9), float(40/1000), float(0.3282204182), float(3000), float(0.080),\n",
    "                 'gaspressures.dat', 20, 0.1,540,1)\n",
    "fy_2, time_2 = torquegen(float(60/1000), float(140/1000),\n",
    "                 float(0.6833038489), float( 1e-9), float(40/1000), float(0.3282204182), float(3000), float(0.080),\n",
    "                 'gaspressures.dat', 20, 0.1,630,1)"
   ]
  },
  {
   "cell_type": "code",
   "execution_count": null,
   "metadata": {},
   "outputs": [],
   "source": [
    "plt.plot(time_1,fy_1,label='cyl_1')\n",
    "plt.plot(time_1,fy_5,\"--\",label='cyl_5')\n",
    "plt.plot(time_1,fy_4,\"--\",label='cyl_4')\n",
    "plt.plot(time_1,fy_8,\"--\",label='cyl_8')\n",
    "plt.plot(time_1,fy_6,\"--\",label='cyl_6')\n",
    "plt.plot(time_1,fy_3,\"--\",label='cyl_3')\n",
    "plt.plot(time_1,fy_7,\"--\",label='cyl_7')\n",
    "plt.plot(time_1,fy_2,\"--\",label='cyl_2')\n",
    "plt.legend()\n",
    "plt.xlabel(\"time [sec]\")\n",
    "plt.ylabel(\"torque [N-mm]\")\n",
    "plt.show()"
   ]
  },
  {
   "cell_type": "code",
   "execution_count": null,
   "metadata": {},
   "outputs": [],
   "source": [
    "torque = fy_1+fy_5+fy_4+fy_8+fy_6+fy_3+fy_7+fy_2"
   ]
  },
  {
   "cell_type": "code",
   "execution_count": null,
   "metadata": {},
   "outputs": [],
   "source": [
    "plt.plot(time_1,torque)\n",
    "plt.xlabel(\"time [sec]\")\n",
    "plt.ylabel(\"torque [N-mm]\")\n",
    "plt.show()"
   ]
  },
  {
   "cell_type": "code",
   "execution_count": null,
   "metadata": {},
   "outputs": [],
   "source": [
    "\n",
    "#Vectorised Code#Vector \n",
    "def eval_freqfft_vect(time_sec, vibr):\n",
    "    datalength_fft = len(time_sec)\n",
    "    datalengthby2 = int(datalength_fft/2)\n",
    "    timeavgcalc = np.array([], dtype = float64)\n",
    "    time_sec_i = time_sec[1:]\n",
    "    time_sec_i_1 = time_sec[:-1]\n",
    "    timeavgcalc = time_sec_i - time_sec_i_1\n",
    "    sigint_avg = np.mean(timeavgcalc)\n",
    "    siginf = 1/(datalength_fft*sigint_avg)\n",
    "    freqhztemp = np.arange(0,datalength_fft,dtype = float64)\n",
    "    freqhz = freqhztemp*siginf\n",
    "    freqhz = freqhz[0:datalengthby2]\n",
    "    vibr_fft = np.abs(fft(vibr,axis = -1))\n",
    "    vibr_fft = ((vibr_fft[0:datalengthby2])/datalength_fft)*2\n",
    "    return freqhz,vibr_fft"
   ]
  },
  {
   "cell_type": "code",
   "execution_count": null,
   "metadata": {},
   "outputs": [],
   "source": [
    "fy_1_mf, time_1_mf = torquegen(float(60/1000), float(140/1000),\n",
    "                 float(0.6833038489), float( 1e-9), float(40/1000), float(0.3282204182), float(3000), float(0.080),\n",
    "                 'gaspressures.dat', 20, 0.1,270,0.1)\n",
    "\n",
    "fy_8_mf, time_8_mf = torquegen(float(60/1000), float(140/1000),\n",
    "                 float(0.6833038489), float( 1e-9), float(40/1000), float(0.3282204182), float(3000), float(0.080),\n",
    "                 'gaspressures.dat', 20, 0.1,270,0.1)"
   ]
  },
  {
   "cell_type": "code",
   "execution_count": null,
   "metadata": {},
   "outputs": [],
   "source": [
    "torque_cyl1mf = fy_1_mf+fy_5+fy_4+fy_8   +fy_6+fy_3+fy_7+fy_2\n",
    "torque_cyl8mf = fy_1   +fy_5+fy_4+fy_8_mf+fy_6+fy_3+fy_7+fy_2"
   ]
  },
  {
   "cell_type": "code",
   "execution_count": null,
   "metadata": {},
   "outputs": [],
   "source": [
    "plt.plot(time_1,torque_cyl1mf, \"-\", label =\"Cyl1 MisFire\", alpha=0.7)\n",
    "plt.plot(time_1,torque_cyl8mf, label =\"Cyl8 MisFire\", alpha=0.7)\n",
    "plt.xlabel(\"time [sec]\")\n",
    "plt.ylabel(\"torque [N-mm]\")\n",
    "plt.legend()\n",
    "plt.show()"
   ]
  },
  {
   "cell_type": "code",
   "execution_count": null,
   "metadata": {},
   "outputs": [],
   "source": [
    "freq,vibr = eval_freqfft_vect(time_1,torque)\n",
    "freq_cyl1mf,vibr_cyl1mf = eval_freqfft_vect(time_1,torque_cyl1mf)\n",
    "freq_cyl8mf,vibr_cyl8mf = eval_freqfft_vect(time_1,torque_cyl8mf)\n",
    "plt.plot(freq,vibr, label = \"nominal\", alpha=0.7)\n",
    "plt.plot(freq_cyl1mf,vibr_cyl1mf, \"--\", label=\"cyl1 misfiring\", alpha=0.7)\n",
    "plt.plot(freq_cyl8mf,vibr_cyl8mf, \"--\", label=\"cyl8 misfiring\", alpha=0.7)\n",
    "plt.xlim(0,800) \n",
    "plt.ylim(0,500000) \n",
    "plt.legend()\n",
    "plt.xlabel(\"frequency [Hz]\")\n",
    "plt.ylabel(\"torque [N-mm]\")\n",
    "plt.show()"
   ]
  },
  {
   "cell_type": "code",
   "execution_count": null,
   "metadata": {},
   "outputs": [],
   "source": []
  },
  {
   "cell_type": "code",
   "execution_count": null,
   "metadata": {},
   "outputs": [],
   "source": []
  }
 ],
 "metadata": {
  "kernelspec": {
   "display_name": "Python 3",
   "language": "python",
   "name": "python3"
  },
  "language_info": {
   "codemirror_mode": {
    "name": "ipython",
    "version": 3
   },
   "file_extension": ".py",
   "mimetype": "text/x-python",
   "name": "python",
   "nbconvert_exporter": "python",
   "pygments_lexer": "ipython3",
   "version": "3.6.4"
  }
 },
 "nbformat": 4,
 "nbformat_minor": 2
}
